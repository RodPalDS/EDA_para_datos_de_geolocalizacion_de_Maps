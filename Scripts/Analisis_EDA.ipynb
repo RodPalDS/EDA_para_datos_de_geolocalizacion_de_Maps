{
 "cells": [
  {
   "cell_type": "markdown",
   "metadata": {},
   "source": [
    "# Importación de librerías"
   ]
  },
  {
   "cell_type": "code",
   "execution_count": 1,
   "metadata": {},
   "outputs": [],
   "source": [
    "import json\n",
    "import pandas as pd\n",
    "from datetime import date, time, datetime"
   ]
  },
  {
   "cell_type": "markdown",
   "metadata": {},
   "source": [
    "# Carga de datos"
   ]
  },
  {
   "cell_type": "code",
   "execution_count": 2,
   "metadata": {},
   "outputs": [],
   "source": [
    "data1 = []\n",
    "with open('Records.json') as data_file:    \n",
    "    data = json.load(data_file)\n",
    "    for location in data['locations']:\n",
    "        data1.append(location)"
   ]
  },
  {
   "cell_type": "code",
   "execution_count": 3,
   "metadata": {},
   "outputs": [
    {
     "name": "stdout",
     "output_type": "stream",
     "text": [
      "        latitudeE7  longitudeE7  accuracy  \\\n",
      "0       -346437832   -584045990        29   \n",
      "1       -346437627   -584046859        24   \n",
      "2       -346437556   -584046358        24   \n",
      "3       -346436580   -584046147        43   \n",
      "4       -346437130   -584046736        42   \n",
      "...            ...          ...       ...   \n",
      "515565  -346505747   -584368145        13   \n",
      "515566  -346507068   -584393932        12   \n",
      "515567  -346507456   -584400332        12   \n",
      "515568  -346508048   -584414245        13   \n",
      "515569  -346508124   -584415708        13   \n",
      "\n",
      "                                                 activity source   deviceTag  \\\n",
      "0       [{'activity': [{'type': 'IN_VEHICLE', 'confide...   WIFI    36907970   \n",
      "1                                                     NaN   WIFI    36907970   \n",
      "2       [{'activity': [{'type': 'IN_VEHICLE', 'confide...   WIFI    36907970   \n",
      "3       [{'activity': [{'type': 'TILTING', 'confidence...   WIFI    36907970   \n",
      "4       [{'activity': [{'type': 'STILL', 'confidence':...   WIFI    36907970   \n",
      "...                                                   ...    ...         ...   \n",
      "515565  [{'activity': [{'type': 'IN_VEHICLE', 'confide...    GPS -1615259547   \n",
      "515566                                                NaN    GPS -1615259547   \n",
      "515567                                                NaN    GPS -1615259547   \n",
      "515568                                                NaN    GPS -1615259547   \n",
      "515569                                                NaN    GPS -1615259547   \n",
      "\n",
      "                       timestamp deviceDesignation  \n",
      "0       2016-05-04T04:16:45.310Z               NaN  \n",
      "1       2016-05-04T04:17:30.697Z               NaN  \n",
      "2       2016-05-04T04:19:04.274Z               NaN  \n",
      "3       2016-05-04T04:19:44.676Z               NaN  \n",
      "4       2016-05-04T04:21:29.709Z               NaN  \n",
      "...                          ...               ...  \n",
      "515565      2020-07-31T15:38:12Z               NaN  \n",
      "515566      2020-07-31T15:38:28Z               NaN  \n",
      "515567      2020-07-31T15:38:32Z               NaN  \n",
      "515568      2020-07-31T15:38:41Z               NaN  \n",
      "515569      2020-07-31T15:38:42Z               NaN  \n",
      "\n",
      "[515570 rows x 8 columns]\n"
     ]
    }
   ],
   "source": [
    "df = pd.DataFrame(data=data1)\n",
    "print(df)"
   ]
  },
  {
   "cell_type": "markdown",
   "metadata": {},
   "source": [
    "# Exploración y transformación de datos"
   ]
  },
  {
   "cell_type": "markdown",
   "metadata": {},
   "source": [
    "Sabemos con .shape que tenemos 515.570 datos en nuestro dataframe con 8 variables, además con .dtypes conocemos los nombres de cada variable  y el tipo de datos."
   ]
  },
  {
   "cell_type": "code",
   "execution_count": 4,
   "metadata": {},
   "outputs": [
    {
     "name": "stdout",
     "output_type": "stream",
     "text": [
      "(515570, 8)\n",
      "latitudeE7            int64\n",
      "longitudeE7           int64\n",
      "accuracy              int64\n",
      "activity             object\n",
      "source               object\n",
      "deviceTag             int64\n",
      "timestamp            object\n",
      "deviceDesignation    object\n",
      "dtype: object\n"
     ]
    }
   ],
   "source": [
    "print(df.shape)\n",
    "print(df.dtypes)"
   ]
  },
  {
   "cell_type": "markdown",
   "metadata": {},
   "source": [
    "## A continuación explicaremos cada atributo del dataset e información relevante para transformar los datos según nuestra conveniencia:"
   ]
  },
  {
   "cell_type": "markdown",
   "metadata": {},
   "source": [
    "1. LatitudeE7: Latitud con formato E7.\n",
    "\n",
    "2. LongitudeE7: Longitud con formato E7.\n",
    "\n",
    "3. Accuracy: Es el nivel de precisión de la geolocalización.\n",
    "\n",
    "4. Activity:\n",
    "\n",
    "5. Source: Indica la fuente que se utilizó para generar el registro de geolocalización.\n",
    "\n",
    "6. DeviceTag: Identificador entero (específico del historial de ubicaciones) asociado con el dispositivo que cargó la ubicación. \n",
    "\n",
    "7. Timestamp: Da como dato la fecha y hora exacta en que empieza la acción que activa la aplicación en hora UTC+0.\n",
    "\n",
    "8. DeviceDesignation: campo con función desconocida."
   ]
  },
  {
   "cell_type": "markdown",
   "metadata": {},
   "source": [
    "### 1. LatitudeE7\n",
    "### 2. LongitudeE7:"
   ]
  },
  {
   "cell_type": "markdown",
   "metadata": {},
   "source": [
    "EL formato de Longitud y Latitud es de E7, quiere decir que está eliminando los valores decimales. Para volver a tenerlos, debemos multiplicarlo por 0.0000001."
   ]
  },
  {
   "cell_type": "code",
   "execution_count": 5,
   "metadata": {},
   "outputs": [
    {
     "data": {
      "text/html": [
       "<div>\n",
       "<style scoped>\n",
       "    .dataframe tbody tr th:only-of-type {\n",
       "        vertical-align: middle;\n",
       "    }\n",
       "\n",
       "    .dataframe tbody tr th {\n",
       "        vertical-align: top;\n",
       "    }\n",
       "\n",
       "    .dataframe thead th {\n",
       "        text-align: right;\n",
       "    }\n",
       "</style>\n",
       "<table border=\"1\" class=\"dataframe\">\n",
       "  <thead>\n",
       "    <tr style=\"text-align: right;\">\n",
       "      <th></th>\n",
       "      <th>latitudeE7</th>\n",
       "      <th>longitudeE7</th>\n",
       "    </tr>\n",
       "  </thead>\n",
       "  <tbody>\n",
       "    <tr>\n",
       "      <th>0</th>\n",
       "      <td>-34.643783</td>\n",
       "      <td>-58.404599</td>\n",
       "    </tr>\n",
       "    <tr>\n",
       "      <th>1</th>\n",
       "      <td>-34.643763</td>\n",
       "      <td>-58.404686</td>\n",
       "    </tr>\n",
       "    <tr>\n",
       "      <th>2</th>\n",
       "      <td>-34.643756</td>\n",
       "      <td>-58.404636</td>\n",
       "    </tr>\n",
       "    <tr>\n",
       "      <th>3</th>\n",
       "      <td>-34.643658</td>\n",
       "      <td>-58.404615</td>\n",
       "    </tr>\n",
       "    <tr>\n",
       "      <th>4</th>\n",
       "      <td>-34.643713</td>\n",
       "      <td>-58.404674</td>\n",
       "    </tr>\n",
       "  </tbody>\n",
       "</table>\n",
       "</div>"
      ],
      "text/plain": [
       "   latitudeE7  longitudeE7\n",
       "0  -34.643783   -58.404599\n",
       "1  -34.643763   -58.404686\n",
       "2  -34.643756   -58.404636\n",
       "3  -34.643658   -58.404615\n",
       "4  -34.643713   -58.404674"
      ]
     },
     "execution_count": 5,
     "metadata": {},
     "output_type": "execute_result"
    }
   ],
   "source": [
    "df['latitudeE7'] = df['latitudeE7']*0.0000001\n",
    "df['longitudeE7'] = df['longitudeE7']*0.0000001\n",
    "df[['latitudeE7', 'longitudeE7']].head()"
   ]
  },
  {
   "cell_type": "markdown",
   "metadata": {},
   "source": [
    "### 3. Accuracy:"
   ]
  },
  {
   "cell_type": "code",
   "execution_count": 6,
   "metadata": {},
   "outputs": [
    {
     "name": "stdout",
     "output_type": "stream",
     "text": [
      "el máximo valor es 58619 y el mínimo es 0\n"
     ]
    }
   ],
   "source": [
    "mx_acur = max(df['accuracy'])\n",
    "mn_acur = min(df['accuracy'])\n",
    "print(f'el máximo valor es {mx_acur} y el mínimo es {mn_acur}')"
   ]
  },
  {
   "cell_type": "markdown",
   "metadata": {},
   "source": [
    "### 5. Source:"
   ]
  },
  {
   "cell_type": "code",
   "execution_count": 7,
   "metadata": {},
   "outputs": [
    {
     "data": {
      "text/plain": [
       "WIFI       365692\n",
       "GPS        109055\n",
       "CELL        40818\n",
       "UNKNOWN         5\n",
       "Name: source, dtype: int64"
      ]
     },
     "execution_count": 7,
     "metadata": {},
     "output_type": "execute_result"
    }
   ],
   "source": [
    "pd.value_counts(df.source)"
   ]
  },
  {
   "cell_type": "markdown",
   "metadata": {},
   "source": [
    "### 6. DeviceTamp:"
   ]
  },
  {
   "cell_type": "markdown",
   "metadata": {},
   "source": [
    "Se sabe que es un identificador de dispositivo, pero desconocemos a ciencia cierta el significado de su valor entero y su signo. Sin embargo, podemos saber que se trata únicamente de 9 valores que se van repitiendo en los registros."
   ]
  },
  {
   "cell_type": "code",
   "execution_count": 15,
   "metadata": {},
   "outputs": [
    {
     "data": {
      "text/plain": [
       "9"
      ]
     },
     "execution_count": 15,
     "metadata": {},
     "output_type": "execute_result"
    }
   ],
   "source": [
    "df['deviceTag'].nunique()"
   ]
  },
  {
   "cell_type": "code",
   "execution_count": 12,
   "metadata": {},
   "outputs": [
    {
     "data": {
      "text/plain": [
       "-1615259547    233018\n",
       " 299628238     138139\n",
       " 1814650302     69870\n",
       "-1013692988     38856\n",
       " 36907970       17808\n",
       "-523263708      10903\n",
       " 1040228492      5842\n",
       "-263022313       1124\n",
       " 1749122152        10\n",
       "Name: deviceTag, dtype: int64"
      ]
     },
     "execution_count": 12,
     "metadata": {},
     "output_type": "execute_result"
    }
   ],
   "source": [
    "pd.value_counts(df['deviceTag'])"
   ]
  },
  {
   "cell_type": "markdown",
   "metadata": {},
   "source": [
    "### 7. Timestamp:"
   ]
  },
  {
   "cell_type": "markdown",
   "metadata": {},
   "source": [
    "Está en formato \"object\" y debemos cambiarlo a formato \"YYYY-mm-ddTHH:mm:ssZ\", en el cual T sirve como separador de la fecha y la hora y Z indica que está en la hora UTC."
   ]
  },
  {
   "cell_type": "code",
   "execution_count": 8,
   "metadata": {},
   "outputs": [
    {
     "data": {
      "text/plain": [
       "0        2016-05-04 04:16:45.310000+00:00\n",
       "1        2016-05-04 04:17:30.697000+00:00\n",
       "2        2016-05-04 04:19:04.274000+00:00\n",
       "3        2016-05-04 04:19:44.676000+00:00\n",
       "4        2016-05-04 04:21:29.709000+00:00\n",
       "                       ...               \n",
       "515565          2020-07-31 15:38:12+00:00\n",
       "515566          2020-07-31 15:38:28+00:00\n",
       "515567          2020-07-31 15:38:32+00:00\n",
       "515568          2020-07-31 15:38:41+00:00\n",
       "515569          2020-07-31 15:38:42+00:00\n",
       "Name: timestamp, Length: 515570, dtype: datetime64[ns, UTC]"
      ]
     },
     "execution_count": 8,
     "metadata": {},
     "output_type": "execute_result"
    }
   ],
   "source": [
    "df['timestamp']= pd.to_datetime(df['timestamp'], format=('%Y-%m-%dT%H:%M:%S.%f'))\n",
    "df['timestamp']"
   ]
  },
  {
   "cell_type": "markdown",
   "metadata": {},
   "source": [
    "En nuestro análisis podríamos usar los datos de año, mes, día y hora. No consideramos necesario los minutos y segundos. Además nos percatamos que originalmente el formato incluía Z, es decir estaba en hora UTC, debemos incluir el cambio horario según nuestra ubicación geográfica. Sabemos que durante el lapso del tiempo de análisis, no hubo salidas al exterior por lo que siempre se mantuvo en UTC-3 que pertenece a Argentina, cambiamos la hora y le restamos 3 para conocer la hora local."
   ]
  },
  {
   "cell_type": "code",
   "execution_count": 9,
   "metadata": {},
   "outputs": [
    {
     "data": {
      "text/html": [
       "<div>\n",
       "<style scoped>\n",
       "    .dataframe tbody tr th:only-of-type {\n",
       "        vertical-align: middle;\n",
       "    }\n",
       "\n",
       "    .dataframe tbody tr th {\n",
       "        vertical-align: top;\n",
       "    }\n",
       "\n",
       "    .dataframe thead th {\n",
       "        text-align: right;\n",
       "    }\n",
       "</style>\n",
       "<table border=\"1\" class=\"dataframe\">\n",
       "  <thead>\n",
       "    <tr style=\"text-align: right;\">\n",
       "      <th></th>\n",
       "      <th>year</th>\n",
       "      <th>month</th>\n",
       "      <th>day</th>\n",
       "      <th>hour</th>\n",
       "    </tr>\n",
       "  </thead>\n",
       "  <tbody>\n",
       "    <tr>\n",
       "      <th>0</th>\n",
       "      <td>2016</td>\n",
       "      <td>5</td>\n",
       "      <td>4</td>\n",
       "      <td>1</td>\n",
       "    </tr>\n",
       "    <tr>\n",
       "      <th>1</th>\n",
       "      <td>2016</td>\n",
       "      <td>5</td>\n",
       "      <td>4</td>\n",
       "      <td>1</td>\n",
       "    </tr>\n",
       "    <tr>\n",
       "      <th>2</th>\n",
       "      <td>2016</td>\n",
       "      <td>5</td>\n",
       "      <td>4</td>\n",
       "      <td>1</td>\n",
       "    </tr>\n",
       "    <tr>\n",
       "      <th>3</th>\n",
       "      <td>2016</td>\n",
       "      <td>5</td>\n",
       "      <td>4</td>\n",
       "      <td>1</td>\n",
       "    </tr>\n",
       "    <tr>\n",
       "      <th>4</th>\n",
       "      <td>2016</td>\n",
       "      <td>5</td>\n",
       "      <td>4</td>\n",
       "      <td>1</td>\n",
       "    </tr>\n",
       "    <tr>\n",
       "      <th>...</th>\n",
       "      <td>...</td>\n",
       "      <td>...</td>\n",
       "      <td>...</td>\n",
       "      <td>...</td>\n",
       "    </tr>\n",
       "    <tr>\n",
       "      <th>515565</th>\n",
       "      <td>2020</td>\n",
       "      <td>7</td>\n",
       "      <td>31</td>\n",
       "      <td>12</td>\n",
       "    </tr>\n",
       "    <tr>\n",
       "      <th>515566</th>\n",
       "      <td>2020</td>\n",
       "      <td>7</td>\n",
       "      <td>31</td>\n",
       "      <td>12</td>\n",
       "    </tr>\n",
       "    <tr>\n",
       "      <th>515567</th>\n",
       "      <td>2020</td>\n",
       "      <td>7</td>\n",
       "      <td>31</td>\n",
       "      <td>12</td>\n",
       "    </tr>\n",
       "    <tr>\n",
       "      <th>515568</th>\n",
       "      <td>2020</td>\n",
       "      <td>7</td>\n",
       "      <td>31</td>\n",
       "      <td>12</td>\n",
       "    </tr>\n",
       "    <tr>\n",
       "      <th>515569</th>\n",
       "      <td>2020</td>\n",
       "      <td>7</td>\n",
       "      <td>31</td>\n",
       "      <td>12</td>\n",
       "    </tr>\n",
       "  </tbody>\n",
       "</table>\n",
       "<p>515570 rows × 4 columns</p>\n",
       "</div>"
      ],
      "text/plain": [
       "        year  month  day  hour\n",
       "0       2016      5    4     1\n",
       "1       2016      5    4     1\n",
       "2       2016      5    4     1\n",
       "3       2016      5    4     1\n",
       "4       2016      5    4     1\n",
       "...      ...    ...  ...   ...\n",
       "515565  2020      7   31    12\n",
       "515566  2020      7   31    12\n",
       "515567  2020      7   31    12\n",
       "515568  2020      7   31    12\n",
       "515569  2020      7   31    12\n",
       "\n",
       "[515570 rows x 4 columns]"
      ]
     },
     "execution_count": 9,
     "metadata": {},
     "output_type": "execute_result"
    }
   ],
   "source": [
    "df['year'] = pd.DatetimeIndex(df['timestamp']).year\n",
    "df['month'] = pd.DatetimeIndex(df['timestamp']).month\n",
    "df['day'] = pd.DatetimeIndex(df['timestamp']).day\n",
    "df['hour'] = pd.DatetimeIndex(df['timestamp']).hour - 3\n",
    "\n",
    "df[['year', 'month', 'day', 'hour']]\n"
   ]
  },
  {
   "cell_type": "markdown",
   "metadata": {},
   "source": [
    "### 8. DeviceDesignation:"
   ]
  },
  {
   "cell_type": "markdown",
   "metadata": {},
   "source": [
    "Desconocemos su utilidad, pero podemos saber que los valores únicos obtenidos en este campo son PRIMARY y UNKNOWN."
   ]
  },
  {
   "cell_type": "code",
   "execution_count": 10,
   "metadata": {},
   "outputs": [
    {
     "data": {
      "text/plain": [
       "PRIMARY    56783\n",
       "UNKNOWN      338\n",
       "Name: deviceDesignation, dtype: int64"
      ]
     },
     "execution_count": 10,
     "metadata": {},
     "output_type": "execute_result"
    }
   ],
   "source": [
    "pd.value_counts(df['deviceDesignation'])"
   ]
  }
 ],
 "metadata": {
  "kernelspec": {
   "display_name": "Python 3.7.7 64-bit",
   "language": "python",
   "name": "python3"
  },
  "language_info": {
   "codemirror_mode": {
    "name": "ipython",
    "version": 3
   },
   "file_extension": ".py",
   "mimetype": "text/x-python",
   "name": "python",
   "nbconvert_exporter": "python",
   "pygments_lexer": "ipython3",
   "version": "3.7.7"
  },
  "orig_nbformat": 4,
  "vscode": {
   "interpreter": {
    "hash": "8c2dc7f55a4afb133f9671f18548a683b80d7f864af89313bd9839ac682f147f"
   }
  }
 },
 "nbformat": 4,
 "nbformat_minor": 2
}
